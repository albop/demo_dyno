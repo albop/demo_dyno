{
 "cells": [
  {
   "cell_type": "code",
   "execution_count": 1,
   "metadata": {
    "collapsed": true
   },
   "outputs": [],
   "source": [
    "import Dyno"
   ]
  },
  {
   "cell_type": "code",
   "execution_count": 3,
   "metadata": {
    "collapsed": false
   },
   "outputs": [
    {
     "data": {
      "text/plain": [
       "Dyno.Model(DataStructures.OrderedDict(:endogenous=>Symbol[:y,:c,:k,:i,:l,:y_l,:z],:exogenous=>Symbol[:e],:parameters=>Symbol[:beta,:psi,:delta,:alpha,:rho]),Expr[:(((beta * 1) / c(1)) * ((1 + alpha * k ^ (alpha - 1) * (exp(z(1)) * l(1)) ^ (1 - alpha)) - delta) - 1 / c),:((1 - alpha) * k(-1) ^ alpha * exp(z) ^ (1 - alpha) * l ^ -alpha - (c * psi) / (1 - l)),:(y - (c + i)),:(k(-1) ^ alpha * (l * exp(z)) ^ (1 - alpha) - y),:((k - k(-1) * (1 - delta)) - i),:(y / l - y_l),:((rho * z(-1) + e) - z)],Dict(:c=>0.76,:e=>0.0,:beta=>0.99,:y_l=>3.22333,:k=>9.0,:z=>0.0,:psi=>1.75,:alpha=>0.33,:y=>0.967,:l=>0.3…),Dict(:parameters=>[0.99,1.75,0.023,0.33,0.95],:exogenous=>[0.0],:endogenous=>[0.967,0.76,9.0,0.207,0.3,3.22333,0.0]),FullNormal(\n",
       "dim: 1\n",
       "μ: [0.0]\n",
       "Σ: [1.0e-10]\n",
       ")\n",
       ",Dyno.Functions(Dyno.f_s,Dyno.f_d))"
      ]
     },
     "execution_count": 3,
     "metadata": {},
     "output_type": "execute_result"
    }
   ],
   "source": [
    "model = Dyno.import_model(\"rbc.mod\")"
   ]
  },
  {
   "cell_type": "code",
   "execution_count": 4,
   "metadata": {
    "collapsed": false
   },
   "outputs": [
    {
     "data": {
      "text/plain": [
       "Dyno.LinearSolution(Dict(:exogenous=>Symbol[:e],:endogenous=>Symbol[:y,:c,:k,:i,:l,:y_l,:z]),[0.967,0.76,9.0,0.207,0.3,3.22333,0.0],[-0.0 -0.0 … -0.0 0.920268; -0.0 -0.0 … -0.0 0.201288; … ; -0.0 -0.0 … -0.0 1.32605; 0.0 0.0 … 0.0 0.95],[0.968703; 0.211882; … ; 1.39585; 1.0],[1.0e-10])"
      ]
     },
     "execution_count": 4,
     "metadata": {},
     "output_type": "execute_result"
    }
   ],
   "source": [
    "Dyno.solve(model)"
   ]
  },
  {
   "cell_type": "code",
   "execution_count": null,
   "metadata": {
    "collapsed": true
   },
   "outputs": [],
   "source": []
  }
 ],
 "metadata": {
  "kernelspec": {
   "display_name": "Julia 0.5.0",
   "language": "julia",
   "name": "julia-0.5"
  },
  "language_info": {
   "file_extension": ".jl",
   "mimetype": "application/julia",
   "name": "julia",
   "version": "0.5.0"
  }
 },
 "nbformat": 4,
 "nbformat_minor": 1
}
